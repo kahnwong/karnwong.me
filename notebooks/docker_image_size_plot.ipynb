{
 "cells": [
  {
   "cell_type": "code",
   "execution_count": 17,
   "id": "2e4e5016-b355-4fcf-b612-8f17f6b2a4ba",
   "metadata": {},
   "outputs": [],
   "source": [
    "import pandas as pd\n",
    "\n",
    "import matplotlib.pyplot as plt\n",
    "import seaborn as sns\n",
    "\n",
    "sns.set()"
   ]
  },
  {
   "cell_type": "code",
   "execution_count": 18,
   "id": "455edd70-388a-4cc7-a382-7ad70ee1df6e",
   "metadata": {},
   "outputs": [
    {
     "data": {
      "text/html": [
       "<div>\n",
       "<style scoped>\n",
       "    .dataframe tbody tr th:only-of-type {\n",
       "        vertical-align: middle;\n",
       "    }\n",
       "\n",
       "    .dataframe tbody tr th {\n",
       "        vertical-align: top;\n",
       "    }\n",
       "\n",
       "    .dataframe thead th {\n",
       "        text-align: right;\n",
       "    }\n",
       "</style>\n",
       "<table border=\"1\" class=\"dataframe\">\n",
       "  <thead>\n",
       "    <tr style=\"text-align: right;\">\n",
       "      <th></th>\n",
       "      <th>app_type</th>\n",
       "      <th>base_image</th>\n",
       "      <th>docker_image_size</th>\n",
       "    </tr>\n",
       "  </thead>\n",
       "  <tbody>\n",
       "    <tr>\n",
       "      <th>0</th>\n",
       "      <td>bash script</td>\n",
       "      <td>alpine</td>\n",
       "      <td>11.1</td>\n",
       "    </tr>\n",
       "    <tr>\n",
       "      <th>1</th>\n",
       "      <td>bash script</td>\n",
       "      <td>ubuntu</td>\n",
       "      <td>122.0</td>\n",
       "    </tr>\n",
       "    <tr>\n",
       "      <th>2</th>\n",
       "      <td>python</td>\n",
       "      <td>alpine</td>\n",
       "      <td>53.6</td>\n",
       "    </tr>\n",
       "    <tr>\n",
       "      <th>3</th>\n",
       "      <td>python</td>\n",
       "      <td>ubuntu</td>\n",
       "      <td>920.0</td>\n",
       "    </tr>\n",
       "  </tbody>\n",
       "</table>\n",
       "</div>"
      ],
      "text/plain": [
       "      app_type base_image  docker_image_size\n",
       "0  bash script     alpine               11.1\n",
       "1  bash script     ubuntu              122.0\n",
       "2       python     alpine               53.6\n",
       "3       python     ubuntu              920.0"
      ]
     },
     "execution_count": 18,
     "metadata": {},
     "output_type": "execute_result"
    }
   ],
   "source": [
    "d = [\n",
    "    {\"app_type\": \"bash script\", \"base_image\": \"alpine\", \"docker_image_size\": 11.1},\n",
    "    {\"app_type\": \"bash script\", \"base_image\": \"ubuntu\", \"docker_image_size\": 122},\n",
    "    {\"app_type\": \"python\", \"base_image\": \"alpine\", \"docker_image_size\": 53.6},\n",
    "    {\"app_type\": \"python\", \"base_image\": \"ubuntu\", \"docker_image_size\": 920},\n",
    "]\n",
    "\n",
    "df = pd.DataFrame(d)\n",
    "df"
   ]
  },
  {
   "cell_type": "code",
   "execution_count": 22,
   "id": "ed061728-1254-4285-a90e-4652f369faf4",
   "metadata": {},
   "outputs": [
    {
     "data": {
      "text/plain": [
       "Text(0.5, 1.0, 'Docker image size (in MB)')"
      ]
     },
     "execution_count": 22,
     "metadata": {},
     "output_type": "execute_result"
    },
    {
     "data": {
      "image/png": "[encoded data removed]",
      "text/plain": [
       "<Figure size 720x432 with 1 Axes>"
      ]
     },
     "metadata": {},
     "output_type": "display_data"
    }
   ],
   "source": [
    "fig = plt.figure(figsize=(10, 6))\n",
    "\n",
    "sns.barplot(\n",
    "    x=\"app_type\",\n",
    "    y=\"docker_image_size\",\n",
    "    hue=\"base_image\",\n",
    "    data=df,\n",
    ").set_title(\"Docker image size (in MB)\")"
   ]
  },
  {
   "cell_type": "code",
   "execution_count": null,
   "id": "63389f49-4424-4990-ae54-2948266699ab",
   "metadata": {},
   "outputs": [],
   "source": []
  }
 ],
 "metadata": {
  "kernelspec": {
   "display_name": "Python 3 (ipykernel)",
   "language": "python",
   "name": "python3"
  },
  "language_info": {
   "codemirror_mode": {
    "name": "ipython",
    "version": 3
   },
   "file_extension": ".py",
   "mimetype": "text/x-python",
   "name": "python",
   "nbconvert_exporter": "python",
   "pygments_lexer": "ipython3",
   "version": "3.9.5"
  }
 },
 "nbformat": 4,
 "nbformat_minor": 5
}
