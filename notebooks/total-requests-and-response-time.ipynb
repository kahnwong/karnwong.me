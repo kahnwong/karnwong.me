{
 "cells": [
  {
   "cell_type": "code",
   "execution_count": null,
   "id": "0",
   "metadata": {},
   "outputs": [],
   "source": [
    "import seaborn as sns\n",
    "import pandas as pd"
   ]
  },
  {
   "cell_type": "code",
   "execution_count": null,
   "id": "1",
   "metadata": {},
   "outputs": [],
   "source": [
    "data = [\n",
    "    {\n",
    "        \"language\": \"Go\",\n",
    "        \"total_requests\": 898131,\n",
    "        \"avg_rt_ms\": 335.77,\n",
    "        \"min_rt_ms\": 1.78,\n",
    "        \"median_rt_ms\": 239.55,\n",
    "        \"max_rt_s\": 33.38,\n",
    "        \"p95_rt_ms\": 914.37,\n",
    "    },\n",
    "    {\n",
    "        \"language\": \"Node\",\n",
    "        \"total_requests\": 383091,\n",
    "        \"avg_rt_ms\": 823.61,\n",
    "        \"min_rt_ms\": 2.29,\n",
    "        \"median_rt_ms\": 393.98,\n",
    "        \"max_rt_s\": 33.75,\n",
    "        \"p95_rt_ms\": 1410,\n",
    "    },\n",
    "    {\n",
    "        \"language\": \"Python\",\n",
    "        \"total_requests\": 225929,\n",
    "        \"avg_rt_ms\": 1420,\n",
    "        \"min_rt_ms\": 3.15,\n",
    "        \"median_rt_ms\": 861.22,\n",
    "        \"max_rt_s\": 35.37,\n",
    "        \"p95_rt_ms\": 1980,\n",
    "    },\n",
    "    {\n",
    "        \"language\": \"Rust\",\n",
    "        \"total_requests\": 901038,\n",
    "        \"avg_rt_ms\": 408.57,\n",
    "        \"min_rt_ms\": 2,\n",
    "        \"median_rt_ms\": 274.13,\n",
    "        \"max_rt_s\": 40.77,\n",
    "        \"p95_rt_ms\": 901.35,\n",
    "    },\n",
    "]\n",
    "\n",
    "df = pd.DataFrame(data)\n",
    "print(df)"
   ]
  },
  {
   "cell_type": "code",
   "execution_count": null,
   "id": "2",
   "metadata": {},
   "outputs": [],
   "source": [
    "# total requests\n",
    "df[[\"language\", \"total_requests\"]].set_index(\"language\").plot(kind=\"bar\")"
   ]
  },
  {
   "cell_type": "code",
   "execution_count": null,
   "id": "3",
   "metadata": {},
   "outputs": [],
   "source": [
    "# min response time\n",
    "df[[\"language\", \"min_rt_ms\"]].set_index(\"language\").plot(kind=\"bar\")"
   ]
  },
  {
   "cell_type": "code",
   "execution_count": null,
   "id": "4",
   "metadata": {},
   "outputs": [],
   "source": [
    "# response time\n",
    "df[[\"language\", \"avg_rt_ms\", \"median_rt_ms\", \"p95_rt_ms\"]].set_index(\"language\").plot(\n",
    "    kind=\"bar\"\n",
    ")"
   ]
  },
  {
   "cell_type": "code",
   "execution_count": null,
   "id": "5",
   "metadata": {},
   "outputs": [],
   "source": []
  },
  {
   "cell_type": "code",
   "execution_count": null,
   "id": "6",
   "metadata": {},
   "outputs": [],
   "source": []
  },
  {
   "cell_type": "code",
   "execution_count": null,
   "id": "7",
   "metadata": {},
   "outputs": [],
   "source": []
  },
  {
   "cell_type": "code",
   "execution_count": null,
   "id": "8",
   "metadata": {},
   "outputs": [],
   "source": []
  }
 ],
 "metadata": {
  "kernelspec": {
   "display_name": "Python 3",
   "language": "python",
   "name": "python3"
  },
  "language_info": {
   "codemirror_mode": {
    "name": "ipython",
    "version": 2
   },
   "file_extension": ".py",
   "mimetype": "text/x-python",
   "name": "python",
   "nbconvert_exporter": "python",
   "pygments_lexer": "ipython2",
   "version": "2.7.6"
  }
 },
 "nbformat": 4,
 "nbformat_minor": 5
}
